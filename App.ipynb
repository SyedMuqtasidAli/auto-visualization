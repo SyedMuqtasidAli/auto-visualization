{
 "cells": [
  {
   "cell_type": "markdown",
   "id": "0a628852-0f3e-4108-a1c4-aec75db91c0e",
   "metadata": {},
   "source": [
    "# Auto Visualization on Uploading Any Dataset \n",
    "Auto visualization tools provide a seamless way to gain insights from uploaded datasets by automatically generating visual representations of the data's key characteristics. These tools eliminate the need for manual exploration and visualization setup, making it convenient for users to quickly comprehend data trends, patterns, and distributions. By dynamically generating charts, graphs, and plots based on the dataset's attributes, auto visualization tools cater to users regardless of their technical expertise, enabling efficient decision-making and data-driven analysis."
   ]
  },
  {
   "cell_type": "code",
   "execution_count": 1,
   "id": "1a952fad-2ae2-468b-8135-2ed62e02aed7",
   "metadata": {
    "tags": []
   },
   "outputs": [],
   "source": [
    "import dash\n",
    "from dash import dcc, html\n",
    "from dash.dependencies import Input, Output, State\n",
    "import pandas as pd\n",
    "import io\n",
    "import base64\n",
    "import plotly.express as px\n",
    "import plotly.graph_objects as go\n",
    "import numpy as np\n",
    "from plotly.subplots import make_subplots"
   ]
  },
  {
   "cell_type": "code",
   "execution_count": 2,
   "id": "b8ae054a-7ecd-4f77-9397-3e60e5fa44e5",
   "metadata": {
    "tags": []
   },
   "outputs": [],
   "source": [
    "# Initialize the Dash app\n",
    "app = dash.Dash(__name__)"
   ]
  },
  {
   "cell_type": "markdown",
   "id": "35e65723-c903-41ab-9d14-1c83ae0885d6",
   "metadata": {},
   "source": [
    "# Note\n",
    "This Dash app layout includes components for uploading a CSV file, displaying uploaded data, input fields for column names, buttons for different types of visualizations, and a placeholder for displaying the generated visualization. The uploaded_df variable is initialized to None and will be used to store the DataFrame once the CSV file is uploaded and processed."
   ]
  },
  {
   "cell_type": "code",
   "execution_count": 3,
   "id": "0d1fc9ab-ce22-40d1-b900-eb88e7bf330e",
   "metadata": {
    "tags": []
   },
   "outputs": [],
   "source": [
    "# Set up the layout of the Dash app\n",
    "app.layout = html.Div([\n",
    "    # Upload component for selecting and uploading a CSV file\n",
    "    dcc.Upload(\n",
    "        id='upload-data',\n",
    "        children=html.Button('Upload CSV File'),\n",
    "        multiple=False\n",
    "    ),\n",
    "    # Placeholder for displaying the uploaded data\n",
    "    html.Div(id='output-data'),\n",
    "    \n",
    "    # Input field for column name(s) used in visualizations\n",
    "    dcc.Input(id='visualization-column', type='text', placeholder='Enter column name(s)'),\n",
    "    \n",
    "    # Buttons for different types of visualizations\n",
    "    html.Button('Box Plot', id='box-plot-button', n_clicks=0),\n",
    "    html.Button('Scatter Plot', id='scatter-plot-button', n_clicks=0),\n",
    "    html.Button('Bar Chart', id='bar-chart-button', n_clicks=0),\n",
    "    html.Button('Histogram', id='histogram-button', n_clicks=0),\n",
    "    html.Button('Line Plot', id='line-plot-button', n_clicks=0),\n",
    "    \n",
    "    # Placeholder for displaying the generated visualization\n",
    "    dcc.Graph(id='visualization-output'),\n",
    "])\n",
    "\n",
    "# Initialize a variable to store the uploaded DataFrame\n",
    "uploaded_df = None\n"
   ]
  },
  {
   "cell_type": "markdown",
   "id": "4ef6f2e0-4f89-46dd-861d-e7ccb12e6af2",
   "metadata": {},
   "source": [
    "# Note\n",
    "The provided code defines two Dash callbacks. The first callback handles the parsing of uploaded CSV contents and displays information about the uploaded file. The second callback generates different visualizations based on button clicks and the selected column name for visualization. The specific visualization functions like generate_box_plot need to be implemented separately, and they should return the corresponding visualization figure using Plotly's figure definitions."
   ]
  },
  {
   "cell_type": "code",
   "execution_count": 4,
   "id": "98bc6863-bc5e-479b-a997-597de9d1eabe",
   "metadata": {
    "tags": []
   },
   "outputs": [],
   "source": [
    "# Define a callback to parse the uploaded CSV contents\n",
    "def parse_contents(contents):\n",
    "    content_type, content_string = contents.split(',')\n",
    "    decoded = base64.b64decode(content_string)\n",
    "    df = pd.read_csv(io.StringIO(decoded.decode('utf-8')))\n",
    "    return df\n",
    "\n",
    "# Callback to update the output display with uploaded file information\n",
    "@app.callback(\n",
    "    Output('output-data', 'children'),\n",
    "    Input('upload-data', 'contents'),\n",
    "    State('upload-data', 'filename')\n",
    ")\n",
    "def update_output(contents, filename):\n",
    "    global uploaded_df\n",
    "\n",
    "    if contents is not None:\n",
    "        df = parse_contents(contents)\n",
    "        uploaded_df = df\n",
    "        return [\n",
    "            html.H4(f'Uploaded File: {filename}'),\n",
    "            html.H5('Column Names:'),\n",
    "            html.P(', '.join(df.columns.tolist())),\n",
    "        ]\n",
    "    return []\n",
    "\n",
    "# Callback to update the visualization output based on button clicks\n",
    "@app.callback(\n",
    "    Output('visualization-output', 'figure'),\n",
    "    Input('box-plot-button', 'n_clicks'),\n",
    "    Input('scatter-plot-button', 'n_clicks'),\n",
    "    Input('bar-chart-button', 'n_clicks'),\n",
    "    Input('histogram-button', 'n_clicks'),\n",
    "    Input('line-plot-button', 'n_clicks'),\n",
    "    State('visualization-column', 'value')\n",
    ")\n",
    "def update_visualization_output(box_n_clicks, scatter_n_clicks, bar_n_clicks, hist_n_clicks, line_n_clicks, visualization_column):\n",
    "    ctx = dash.callback_context\n",
    "\n",
    "    if not ctx.triggered:\n",
    "        return {}\n",
    "\n",
    "    button_id = ctx.triggered[0]['prop_id'].split('.')[0]\n",
    "\n",
    "    # Generate the appropriate visualization based on the clicked button\n",
    "    if button_id == 'box-plot-button':\n",
    "        return generate_box_plot(visualization_column)\n",
    "    elif button_id == 'scatter-plot-button':\n",
    "        return generate_scatter_plot(visualization_column)\n",
    "    elif button_id == 'bar-chart-button':\n",
    "        return generate_bar_chart(visualization_column)\n",
    "    elif button_id == 'histogram-button':\n",
    "        return generate_histogram(visualization_column)\n",
    "    elif button_id == 'line-plot-button':\n",
    "        return generate_line_plot(visualization_column)\n",
    "    return {}\n"
   ]
  },
  {
   "cell_type": "markdown",
   "id": "be4ef1af-094b-416b-b5a1-40ec61582373",
   "metadata": {},
   "source": [
    "The provided code defines a function generate_box_plot(column_names) that generates a box plot visualization using Plotly. The function takes a string of column names as input and creates a separate box plot for each specified column."
   ]
  },
  {
   "cell_type": "code",
   "execution_count": 5,
   "id": "3a381614-1bb0-427a-8201-91ca2b462d47",
   "metadata": {
    "tags": []
   },
   "outputs": [],
   "source": [
    "import plotly.graph_objs as go\n",
    "\n",
    "def generate_box_plot(column_names):\n",
    "    # Create an empty Plotly figure\n",
    "    fig = go.Figure()\n",
    "\n",
    "    # Split the column_names string into individual column names\n",
    "    for col in column_names.split(','):\n",
    "        # Check if the column exists in the uploaded DataFrame\n",
    "        if col in uploaded_df.columns:\n",
    "            # Add a box plot trace for the current column\n",
    "            fig.add_trace(go.Box(y=uploaded_df[col], name=col))\n",
    "\n",
    "    # Customize the layout of the figure\n",
    "    fig.update_layout(title=f'Box Plot of {column_names}')\n",
    "\n",
    "    # Return the generated Plotly figure\n",
    "    return fig\n"
   ]
  },
  {
   "cell_type": "markdown",
   "id": "f47d848b-08f5-40ae-bcd0-c6782cb9920b",
   "metadata": {},
   "source": [
    "The provided code defines a function generate_scatter_plot(column_names) that generates a scatter plot visualization using Plotly. The function takes a string of two column names as input and creates a scatter plot using the data from those columns."
   ]
  },
  {
   "cell_type": "code",
   "execution_count": 6,
   "id": "adce8591-9b93-4507-9790-89397ffe4b2e",
   "metadata": {
    "tags": []
   },
   "outputs": [],
   "source": [
    "def generate_scatter_plot(column_names):\n",
    "    # Create an empty Plotly figure\n",
    "    fig = go.Figure()\n",
    "\n",
    "    # Split the column_names string into individual column names\n",
    "    cols = column_names.split(',')\n",
    "\n",
    "    # Check if there are exactly two valid columns\n",
    "    if len(cols) == 2 and all(col in uploaded_df.columns for col in cols):\n",
    "        # Add a scatter plot trace for the two columns\n",
    "        fig.add_trace(go.Scatter(x=uploaded_df[cols[0]], y=uploaded_df[cols[1]], mode='markers'))\n",
    "\n",
    "        # Customize the layout of the figure\n",
    "        fig.update_layout(title=f'Scatter Plot: {cols[0]} vs {cols[1]}')\n",
    "\n",
    "    # Return the generated Plotly figure\n",
    "    return fig"
   ]
  },
  {
   "cell_type": "markdown",
   "id": "03c55818-41ab-46e1-bcca-11a36cfc425d",
   "metadata": {},
   "source": [
    "The provided code defines a function generate_bar_chart(column_names) that generates a horizontal bar chart visualization using Plotly. The function takes a string of column names as input and creates separate bar chart traces for each specified column. "
   ]
  },
  {
   "cell_type": "code",
   "execution_count": 7,
   "id": "29e3219a-e8fe-4ba4-9e8b-279081cdce03",
   "metadata": {
    "tags": []
   },
   "outputs": [],
   "source": [
    "def generate_bar_chart(column_names):\n",
    "    # Create an empty Plotly figure\n",
    "    fig = go.Figure()\n",
    "\n",
    "    # Split the column_names string into individual column names\n",
    "    for col in column_names.split(','):\n",
    "        # Check if the column exists in the uploaded DataFrame\n",
    "        if col in uploaded_df.columns:\n",
    "            # Add a bar chart trace for the current column\n",
    "            fig.add_trace(go.Bar(x=uploaded_df[col], y=uploaded_df.index, orientation='h', name=col))\n",
    "\n",
    "    # Customize the layout of the figure\n",
    "    fig.update_layout(title=f'Bar Chart of {column_names}')\n",
    "\n",
    "    # Return the generated Plotly figure\n",
    "    return fig"
   ]
  },
  {
   "cell_type": "markdown",
   "id": "7bd40b50-bc09-47db-b896-a999d3a14c6e",
   "metadata": {},
   "source": [
    "The provided code defines a function generate_histogram(column_names) that generates a histogram visualization using the Plotly Express library. The function takes a string of column names as input and creates a histogram for each specified column."
   ]
  },
  {
   "cell_type": "code",
   "execution_count": 10,
   "id": "3f7bc808-4f12-48dd-b145-b9868491ca91",
   "metadata": {
    "tags": []
   },
   "outputs": [],
   "source": [
    "def generate_histogram(column_names):\n",
    "    # Use Plotly Express to create a histogram\n",
    "    fig = px.histogram(uploaded_df, x=column_names.split(','), title=f'Histogram of {column_names}')\n",
    "    \n",
    "    # Return the generated Plotly figure\n",
    "    return fig"
   ]
  },
  {
   "cell_type": "code",
   "execution_count": 11,
   "id": "e9c0df5d-8414-4ae9-a441-e293e38b88e3",
   "metadata": {
    "tags": []
   },
   "outputs": [],
   "source": [
    "def generate_line_plot(column_names):\n",
    "     # Use Plotly Express to create a line plot\n",
    "    fig = px.line(uploaded_df, x=uploaded_df.index, y=column_names.split(','), title=f'Line Plot of {column_names}')\n",
    "    # Return the generated Plotly figure\n",
    "    return fig"
   ]
  },
  {
   "cell_type": "code",
   "execution_count": null,
   "id": "6322d4ba-de69-403e-aeb8-343ae0f92c30",
   "metadata": {
    "tags": []
   },
   "outputs": [
    {
     "name": "stdout",
     "output_type": "stream",
     "text": [
      "Dash is running on http://127.0.0.1:8050/\n",
      "\n",
      " * Serving Flask app '__main__'\n",
      " * Debug mode: off\n"
     ]
    },
    {
     "name": "stderr",
     "output_type": "stream",
     "text": [
      "WARNING: This is a development server. Do not use it in a production deployment. Use a production WSGI server instead.\n",
      " * Running on http://127.0.0.1:8050\n",
      "Press CTRL+C to quit\n",
      "127.0.0.1 - - [15/Aug/2023 11:52:06] \"GET / HTTP/1.1\" 200 -\n",
      "127.0.0.1 - - [15/Aug/2023 11:52:07] \"GET /_dash-layout HTTP/1.1\" 200 -\n",
      "127.0.0.1 - - [15/Aug/2023 11:52:07] \"GET /_dash-dependencies HTTP/1.1\" 200 -\n",
      "127.0.0.1 - - [15/Aug/2023 11:52:08] \"GET /_dash-component-suites/dash/dcc/async-upload.js HTTP/1.1\" 304 -\n",
      "127.0.0.1 - - [15/Aug/2023 11:52:08] \"GET /_dash-component-suites/dash/dcc/async-graph.js HTTP/1.1\" 304 -\n",
      "127.0.0.1 - - [15/Aug/2023 11:52:08] \"POST /_dash-update-component HTTP/1.1\" 200 -\n",
      "127.0.0.1 - - [15/Aug/2023 11:52:08] \"GET /_dash-component-suites/dash/dcc/async-plotlyjs.js HTTP/1.1\" 304 -\n",
      "127.0.0.1 - - [15/Aug/2023 11:52:08] \"POST /_dash-update-component HTTP/1.1\" 200 -\n",
      "127.0.0.1 - - [15/Aug/2023 11:57:05] \"POST /_dash-update-component HTTP/1.1\" 200 -\n",
      "127.0.0.1 - - [15/Aug/2023 11:57:28] \"POST /_dash-update-component HTTP/1.1\" 200 -\n",
      "127.0.0.1 - - [15/Aug/2023 11:58:16] \"POST /_dash-update-component HTTP/1.1\" 200 -\n",
      "127.0.0.1 - - [15/Aug/2023 11:58:58] \"POST /_dash-update-component HTTP/1.1\" 200 -\n"
     ]
    },
    {
     "name": "stdout",
     "output_type": "stream",
     "text": [
      "Exception on /_dash-update-component [POST]\n",
      "Traceback (most recent call last):\n",
      "  File \"C:\\Users\\Syed Muqtasid Ali\\anaconda3\\lib\\site-packages\\flask\\app.py\", line 2525, in wsgi_app\n",
      "    response = self.full_dispatch_request()\n",
      "  File \"C:\\Users\\Syed Muqtasid Ali\\anaconda3\\lib\\site-packages\\flask\\app.py\", line 1822, in full_dispatch_request\n",
      "    rv = self.handle_user_exception(e)\n",
      "  File \"C:\\Users\\Syed Muqtasid Ali\\anaconda3\\lib\\site-packages\\flask\\app.py\", line 1820, in full_dispatch_request\n",
      "    rv = self.dispatch_request()\n",
      "  File \"C:\\Users\\Syed Muqtasid Ali\\anaconda3\\lib\\site-packages\\flask\\app.py\", line 1796, in dispatch_request\n",
      "    return self.ensure_sync(self.view_functions[rule.endpoint])(**view_args)\n",
      "  File \"C:\\Users\\Syed Muqtasid Ali\\anaconda3\\lib\\site-packages\\dash\\dash.py\", line 1274, in dispatch\n",
      "    ctx.run(\n",
      "  File \"C:\\Users\\Syed Muqtasid Ali\\anaconda3\\lib\\site-packages\\dash\\_callback.py\", line 440, in add_context\n",
      "    output_value = func(*func_args, **func_kwargs)  # %% callback invoked %%\n",
      "  File \"C:\\Users\\Syed Muqtasid Ali\\AppData\\Local\\Temp\\ipykernel_2652\\3613855840.py\", line 53, in update_visualization_output\n",
      "    return generate_histogram(visualization_column)\n",
      "  File \"C:\\Users\\Syed Muqtasid Ali\\AppData\\Local\\Temp\\ipykernel_2652\\561267043.py\", line 3, in generate_histogram\n",
      "    fig = px.histogram(uploaded_df, x=column_names.split(','), title=f'Histogram of {column_names}')\n",
      "  File \"C:\\Users\\Syed Muqtasid Ali\\anaconda3\\lib\\site-packages\\plotly\\express\\_chart_types.py\", line 480, in histogram\n",
      "    return make_figure(\n",
      "  File \"C:\\Users\\Syed Muqtasid Ali\\anaconda3\\lib\\site-packages\\plotly\\express\\_core.py\", line 1990, in make_figure\n",
      "    args = build_dataframe(args, constructor)\n",
      "  File \"C:\\Users\\Syed Muqtasid Ali\\anaconda3\\lib\\site-packages\\plotly\\express\\_core.py\", line 1452, in build_dataframe\n",
      "    raise ValueError(\n",
      "ValueError: Plotly Express cannot process wide-form data with columns of different type.\n"
     ]
    },
    {
     "name": "stderr",
     "output_type": "stream",
     "text": [
      "127.0.0.1 - - [15/Aug/2023 11:59:25] \"POST /_dash-update-component HTTP/1.1\" 500 -\n"
     ]
    },
    {
     "name": "stdout",
     "output_type": "stream",
     "text": [
      "Exception on /_dash-update-component [POST]\n",
      "Traceback (most recent call last):\n",
      "  File \"C:\\Users\\Syed Muqtasid Ali\\anaconda3\\lib\\site-packages\\flask\\app.py\", line 2525, in wsgi_app\n",
      "    response = self.full_dispatch_request()\n",
      "  File \"C:\\Users\\Syed Muqtasid Ali\\anaconda3\\lib\\site-packages\\flask\\app.py\", line 1822, in full_dispatch_request\n",
      "    rv = self.handle_user_exception(e)\n",
      "  File \"C:\\Users\\Syed Muqtasid Ali\\anaconda3\\lib\\site-packages\\flask\\app.py\", line 1820, in full_dispatch_request\n",
      "    rv = self.dispatch_request()\n",
      "  File \"C:\\Users\\Syed Muqtasid Ali\\anaconda3\\lib\\site-packages\\flask\\app.py\", line 1796, in dispatch_request\n",
      "    return self.ensure_sync(self.view_functions[rule.endpoint])(**view_args)\n",
      "  File \"C:\\Users\\Syed Muqtasid Ali\\anaconda3\\lib\\site-packages\\dash\\dash.py\", line 1274, in dispatch\n",
      "    ctx.run(\n",
      "  File \"C:\\Users\\Syed Muqtasid Ali\\anaconda3\\lib\\site-packages\\dash\\_callback.py\", line 440, in add_context\n",
      "    output_value = func(*func_args, **func_kwargs)  # %% callback invoked %%\n",
      "  File \"C:\\Users\\Syed Muqtasid Ali\\AppData\\Local\\Temp\\ipykernel_2652\\3613855840.py\", line 55, in update_visualization_output\n",
      "    return generate_line_plot(visualization_column)\n",
      "  File \"C:\\Users\\Syed Muqtasid Ali\\AppData\\Local\\Temp\\ipykernel_2652\\2985509218.py\", line 3, in generate_line_plot\n",
      "    fig = px.line(uploaded_df, x=uploaded_df.index, y=column_names.split(','), title=f'Line Plot of {column_names}')\n",
      "  File \"C:\\Users\\Syed Muqtasid Ali\\anaconda3\\lib\\site-packages\\plotly\\express\\_chart_types.py\", line 264, in line\n",
      "    return make_figure(args=locals(), constructor=go.Scatter)\n",
      "  File \"C:\\Users\\Syed Muqtasid Ali\\anaconda3\\lib\\site-packages\\plotly\\express\\_core.py\", line 1990, in make_figure\n",
      "    args = build_dataframe(args, constructor)\n",
      "  File \"C:\\Users\\Syed Muqtasid Ali\\anaconda3\\lib\\site-packages\\plotly\\express\\_core.py\", line 1452, in build_dataframe\n",
      "    raise ValueError(\n",
      "ValueError: Plotly Express cannot process wide-form data with columns of different type.\n"
     ]
    },
    {
     "name": "stderr",
     "output_type": "stream",
     "text": [
      "127.0.0.1 - - [15/Aug/2023 11:59:32] \"POST /_dash-update-component HTTP/1.1\" 500 -\n",
      "127.0.0.1 - - [15/Aug/2023 11:59:51] \"POST /_dash-update-component HTTP/1.1\" 200 -\n",
      "127.0.0.1 - - [15/Aug/2023 12:00:12] \"POST /_dash-update-component HTTP/1.1\" 200 -\n"
     ]
    }
   ],
   "source": [
    "\n",
    "if __name__ == '__main__':\n",
    "    app.run_server(debug=False)"
   ]
  },
  {
   "cell_type": "code",
   "execution_count": null,
   "id": "ab83fff4-c54f-44ef-b48a-2779a5ba2f0a",
   "metadata": {},
   "outputs": [],
   "source": []
  }
 ],
 "metadata": {
  "kernelspec": {
   "display_name": "Python 3 (ipykernel)",
   "language": "python",
   "name": "python3"
  },
  "language_info": {
   "codemirror_mode": {
    "name": "ipython",
    "version": 3
   },
   "file_extension": ".py",
   "mimetype": "text/x-python",
   "name": "python",
   "nbconvert_exporter": "python",
   "pygments_lexer": "ipython3",
   "version": "3.10.11"
  }
 },
 "nbformat": 4,
 "nbformat_minor": 5
}
